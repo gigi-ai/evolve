{
 "cells": [
  {
   "cell_type": "code",
   "execution_count": 21,
   "metadata": {},
   "outputs": [
    {
     "name": "stdout",
     "output_type": "stream",
     "text": [
      "Cargando datos finales (CSV)...\n",
      "\n",
      "Primeras filas de datos:\n",
      "        FECHA RANGO_HORARIO TRAMO_EDAD    SEXO TIPO_PERSONA  \\\n",
      "0  2010-01-01           0-1      16-20  HOMBRE    CONDUCTOR   \n",
      "1  2010-01-01           0-1      51-55  HOMBRE    CONDUCTOR   \n",
      "2  2010-01-01           0-1      41-45   MUJER      VIAJERO   \n",
      "3  2010-01-01           1-2      26-30   MUJER      VIAJERO   \n",
      "4  2010-01-01           1-2      31-35   MUJER      VIAJERO   \n",
      "\n",
      "             DISTRITO TIPO_ACCIDENTE LESIVIDAD TIPO_VEHICULO   AÑO      MES  \\\n",
      "0           CHAMARTIN       Colisión        IL      Turismos  2010  January   \n",
      "1           CHAMARTIN       Colisión        IL      Turismos  2010  January   \n",
      "2           CHAMARTIN       Colisión        HL      Turismos  2010  January   \n",
      "3  PUENTE DE VALLECAS       Colisión        HL         Otros  2010  January   \n",
      "4  PUENTE DE VALLECAS       Colisión        HL         Otros  2010  January   \n",
      "\n",
      "  DIA_SEMANA  \n",
      "0     Friday  \n",
      "1     Friday  \n",
      "2     Friday  \n",
      "3     Friday  \n",
      "4     Friday  \n",
      "\n",
      "Filtrando filas con 'NO ASIGNADO' en múltiples columnas...\n",
      "\n",
      "✅ Resultados:\n",
      "- Registros originales: 524238\n",
      "- Registros conservados: 482054\n",
      "- Registros eliminados (por >1 'NO ASIGNADO'): 42184\n"
     ]
    }
   ],
   "source": [
    "import sys\n",
    "sys.path.append('../src')\n",
    "from etl import run_etl\n",
    "datdatos, datos_limpios, filas_eliminadas = run_etl()"
   ]
  },
  {
   "cell_type": "code",
   "execution_count": 22,
   "metadata": {},
   "outputs": [
    {
     "name": "stdout",
     "output_type": "stream",
     "text": [
      "['HOMBRE' 'MUJER' 'NO ASIGNADO']\n",
      "0\n",
      "513\n",
      "513\n",
      "SEXO\n",
      "False    481541\n",
      "True        513\n",
      "Name: count, dtype: int64\n"
     ]
    }
   ],
   "source": [
    "import pandas as pd\n",
    "\n",
    "datos = pd.read_csv(\"../data/processed/datos_abril_evolve.csv\")\n",
    "\n",
    "print(datos['SEXO'].unique())\n",
    "print(datos['SEXO'].isna().sum())\n",
    "print((datos['SEXO'] == \"NO ASIGNADO\").sum())\n",
    "print((datos['SEXO'].str.strip() == \"NO ASIGNADO\").sum())\n",
    "print(datos['SEXO'].str.lower().str.contains(\"asignado\", na=False).value_counts())\n"
   ]
  }
 ],
 "metadata": {
  "kernelspec": {
   "display_name": "proyecto_evolve",
   "language": "python",
   "name": "python3"
  },
  "language_info": {
   "codemirror_mode": {
    "name": "ipython",
    "version": 3
   },
   "file_extension": ".py",
   "mimetype": "text/x-python",
   "name": "python",
   "nbconvert_exporter": "python",
   "pygments_lexer": "ipython3",
   "version": "3.8.20"
  }
 },
 "nbformat": 4,
 "nbformat_minor": 2
}
